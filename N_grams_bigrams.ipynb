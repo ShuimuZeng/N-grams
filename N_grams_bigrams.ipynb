{
  "nbformat": 4,
  "nbformat_minor": 0,
  "metadata": {
    "colab": {
      "provenance": [],
      "authorship_tag": "ABX9TyPhi2dJTZao1dFJpNhtXO+N",
      "include_colab_link": true
    },
    "kernelspec": {
      "name": "python3",
      "display_name": "Python 3"
    },
    "language_info": {
      "name": "python"
    }
  },
  "cells": [
    {
      "cell_type": "markdown",
      "metadata": {
        "id": "view-in-github",
        "colab_type": "text"
      },
      "source": [
        "<a href=\"https://colab.research.google.com/github/ShuimuZeng/N-grams/blob/main/N_grams_bigrams.ipynb\" target=\"_parent\"><img src=\"https://colab.research.google.com/assets/colab-badge.svg\" alt=\"Open In Colab\"/></a>"
      ]
    },
    {
      "cell_type": "code",
      "execution_count": null,
      "metadata": {
        "id": "8Mh_pinJoCBi"
      },
      "outputs": [],
      "source": [
        "import codecs\n",
        "import numpy as np\n",
        "from google.colab import files\n",
        "import pandas as pd"
      ]
    },
    {
      "cell_type": "code",
      "source": [
        "from nltk.tokenize import sent_tokenize, word_tokenize\n",
        "from nltk.probability import ConditionalFreqDist\n",
        "from nltk.util import ngrams\n",
        "from scipy import stats"
      ],
      "metadata": {
        "id": "L8TQAicrR99k"
      },
      "execution_count": null,
      "outputs": []
    },
    {
      "cell_type": "code",
      "source": [
        "uploaded = files.upload()"
      ],
      "metadata": {
        "colab": {
          "base_uri": "https://localhost:8080/",
          "height": 41
        },
        "id": "u-nC6A0USp4U",
        "outputId": "6348a4e7-8b85-48ff-d51e-51d07bb3d1a5"
      },
      "execution_count": null,
      "outputs": [
        {
          "output_type": "display_data",
          "data": {
            "text/plain": [
              "<IPython.core.display.HTML object>"
            ],
            "text/html": [
              "\n",
              "     <input type=\"file\" id=\"files-47e16e92-2271-4857-add9-c1e7446d8285\" name=\"files[]\" multiple disabled\n",
              "        style=\"border:none\" />\n",
              "     <output id=\"result-47e16e92-2271-4857-add9-c1e7446d8285\">\n",
              "      Upload widget is only available when the cell has been executed in the\n",
              "      current browser session. Please rerun this cell to enable.\n",
              "      </output>\n",
              "      <script>// Copyright 2017 Google LLC\n",
              "//\n",
              "// Licensed under the Apache License, Version 2.0 (the \"License\");\n",
              "// you may not use this file except in compliance with the License.\n",
              "// You may obtain a copy of the License at\n",
              "//\n",
              "//      http://www.apache.org/licenses/LICENSE-2.0\n",
              "//\n",
              "// Unless required by applicable law or agreed to in writing, software\n",
              "// distributed under the License is distributed on an \"AS IS\" BASIS,\n",
              "// WITHOUT WARRANTIES OR CONDITIONS OF ANY KIND, either express or implied.\n",
              "// See the License for the specific language governing permissions and\n",
              "// limitations under the License.\n",
              "\n",
              "/**\n",
              " * @fileoverview Helpers for google.colab Python module.\n",
              " */\n",
              "(function(scope) {\n",
              "function span(text, styleAttributes = {}) {\n",
              "  const element = document.createElement('span');\n",
              "  element.textContent = text;\n",
              "  for (const key of Object.keys(styleAttributes)) {\n",
              "    element.style[key] = styleAttributes[key];\n",
              "  }\n",
              "  return element;\n",
              "}\n",
              "\n",
              "// Max number of bytes which will be uploaded at a time.\n",
              "const MAX_PAYLOAD_SIZE = 100 * 1024;\n",
              "\n",
              "function _uploadFiles(inputId, outputId) {\n",
              "  const steps = uploadFilesStep(inputId, outputId);\n",
              "  const outputElement = document.getElementById(outputId);\n",
              "  // Cache steps on the outputElement to make it available for the next call\n",
              "  // to uploadFilesContinue from Python.\n",
              "  outputElement.steps = steps;\n",
              "\n",
              "  return _uploadFilesContinue(outputId);\n",
              "}\n",
              "\n",
              "// This is roughly an async generator (not supported in the browser yet),\n",
              "// where there are multiple asynchronous steps and the Python side is going\n",
              "// to poll for completion of each step.\n",
              "// This uses a Promise to block the python side on completion of each step,\n",
              "// then passes the result of the previous step as the input to the next step.\n",
              "function _uploadFilesContinue(outputId) {\n",
              "  const outputElement = document.getElementById(outputId);\n",
              "  const steps = outputElement.steps;\n",
              "\n",
              "  const next = steps.next(outputElement.lastPromiseValue);\n",
              "  return Promise.resolve(next.value.promise).then((value) => {\n",
              "    // Cache the last promise value to make it available to the next\n",
              "    // step of the generator.\n",
              "    outputElement.lastPromiseValue = value;\n",
              "    return next.value.response;\n",
              "  });\n",
              "}\n",
              "\n",
              "/**\n",
              " * Generator function which is called between each async step of the upload\n",
              " * process.\n",
              " * @param {string} inputId Element ID of the input file picker element.\n",
              " * @param {string} outputId Element ID of the output display.\n",
              " * @return {!Iterable<!Object>} Iterable of next steps.\n",
              " */\n",
              "function* uploadFilesStep(inputId, outputId) {\n",
              "  const inputElement = document.getElementById(inputId);\n",
              "  inputElement.disabled = false;\n",
              "\n",
              "  const outputElement = document.getElementById(outputId);\n",
              "  outputElement.innerHTML = '';\n",
              "\n",
              "  const pickedPromise = new Promise((resolve) => {\n",
              "    inputElement.addEventListener('change', (e) => {\n",
              "      resolve(e.target.files);\n",
              "    });\n",
              "  });\n",
              "\n",
              "  const cancel = document.createElement('button');\n",
              "  inputElement.parentElement.appendChild(cancel);\n",
              "  cancel.textContent = 'Cancel upload';\n",
              "  const cancelPromise = new Promise((resolve) => {\n",
              "    cancel.onclick = () => {\n",
              "      resolve(null);\n",
              "    };\n",
              "  });\n",
              "\n",
              "  // Wait for the user to pick the files.\n",
              "  const files = yield {\n",
              "    promise: Promise.race([pickedPromise, cancelPromise]),\n",
              "    response: {\n",
              "      action: 'starting',\n",
              "    }\n",
              "  };\n",
              "\n",
              "  cancel.remove();\n",
              "\n",
              "  // Disable the input element since further picks are not allowed.\n",
              "  inputElement.disabled = true;\n",
              "\n",
              "  if (!files) {\n",
              "    return {\n",
              "      response: {\n",
              "        action: 'complete',\n",
              "      }\n",
              "    };\n",
              "  }\n",
              "\n",
              "  for (const file of files) {\n",
              "    const li = document.createElement('li');\n",
              "    li.append(span(file.name, {fontWeight: 'bold'}));\n",
              "    li.append(span(\n",
              "        `(${file.type || 'n/a'}) - ${file.size} bytes, ` +\n",
              "        `last modified: ${\n",
              "            file.lastModifiedDate ? file.lastModifiedDate.toLocaleDateString() :\n",
              "                                    'n/a'} - `));\n",
              "    const percent = span('0% done');\n",
              "    li.appendChild(percent);\n",
              "\n",
              "    outputElement.appendChild(li);\n",
              "\n",
              "    const fileDataPromise = new Promise((resolve) => {\n",
              "      const reader = new FileReader();\n",
              "      reader.onload = (e) => {\n",
              "        resolve(e.target.result);\n",
              "      };\n",
              "      reader.readAsArrayBuffer(file);\n",
              "    });\n",
              "    // Wait for the data to be ready.\n",
              "    let fileData = yield {\n",
              "      promise: fileDataPromise,\n",
              "      response: {\n",
              "        action: 'continue',\n",
              "      }\n",
              "    };\n",
              "\n",
              "    // Use a chunked sending to avoid message size limits. See b/62115660.\n",
              "    let position = 0;\n",
              "    do {\n",
              "      const length = Math.min(fileData.byteLength - position, MAX_PAYLOAD_SIZE);\n",
              "      const chunk = new Uint8Array(fileData, position, length);\n",
              "      position += length;\n",
              "\n",
              "      const base64 = btoa(String.fromCharCode.apply(null, chunk));\n",
              "      yield {\n",
              "        response: {\n",
              "          action: 'append',\n",
              "          file: file.name,\n",
              "          data: base64,\n",
              "        },\n",
              "      };\n",
              "\n",
              "      let percentDone = fileData.byteLength === 0 ?\n",
              "          100 :\n",
              "          Math.round((position / fileData.byteLength) * 100);\n",
              "      percent.textContent = `${percentDone}% done`;\n",
              "\n",
              "    } while (position < fileData.byteLength);\n",
              "  }\n",
              "\n",
              "  // All done.\n",
              "  yield {\n",
              "    response: {\n",
              "      action: 'complete',\n",
              "    }\n",
              "  };\n",
              "}\n",
              "\n",
              "scope.google = scope.google || {};\n",
              "scope.google.colab = scope.google.colab || {};\n",
              "scope.google.colab._files = {\n",
              "  _uploadFiles,\n",
              "  _uploadFilesContinue,\n",
              "};\n",
              "})(self);\n",
              "</script> "
            ]
          },
          "metadata": {}
        }
      ]
    },
    {
      "cell_type": "code",
      "source": [
        "# imports\n",
        "import re\n",
        "import string\n",
        "import random\n",
        "import nltk\n",
        "nltk.download('punkt')\n",
        "nltk.download('stopwords')\n",
        "from nltk.corpus import stopwords\n",
        "from nltk import FreqDist"
      ],
      "metadata": {
        "id": "SqE5nrkX72qN",
        "colab": {
          "base_uri": "https://localhost:8080/"
        },
        "outputId": "b4e100e2-8995-41f9-8b65-7f948a359625"
      },
      "execution_count": null,
      "outputs": [
        {
          "output_type": "stream",
          "name": "stderr",
          "text": [
            "[nltk_data] Downloading package punkt to /root/nltk_data...\n",
            "[nltk_data]   Package punkt is already up-to-date!\n",
            "[nltk_data] Downloading package stopwords to /root/nltk_data...\n",
            "[nltk_data]   Package stopwords is already up-to-date!\n"
          ]
        }
      ]
    },
    {
      "cell_type": "code",
      "source": [
        "stop_words = set(stopwords.words('english'))\n",
        "stop_words"
      ],
      "metadata": {
        "id": "OG8olAn_tSzw"
      },
      "execution_count": null,
      "outputs": []
    },
    {
      "cell_type": "code",
      "source": [
        "import numpy as np\n",
        "import nltk\n",
        "nltk.download('gutenberg')\n",
        "\n",
        "from collections import defaultdict"
      ],
      "metadata": {
        "id": "myVEFFwAbAe0"
      },
      "execution_count": null,
      "outputs": []
    },
    {
      "cell_type": "code",
      "source": [
        "# list all corpora from project Gutenberg in NLTK\n",
        "nltk.corpus.gutenberg.fileids()"
      ],
      "metadata": {
        "id": "WES8-r3ziTw1"
      },
      "execution_count": null,
      "outputs": []
    },
    {
      "cell_type": "code",
      "source": [
        "from nltk.util import pad_sequence\n",
        "from nltk.util import bigrams\n",
        "from nltk.util import ngrams\n",
        "from nltk.util import everygrams\n",
        "from nltk.lm.preprocessing import pad_both_ends\n",
        "from nltk.lm.preprocessing import flatten\n",
        "from nltk.tokenize import word_tokenize\n",
        "from nltk.probability import FreqDist, ConditionalFreqDist\n",
        "from collections import defaultdict\n",
        "from nltk.corpus import gutenberg"
      ],
      "metadata": {
        "id": "MGuGNQxuvPor"
      },
      "execution_count": null,
      "outputs": []
    },
    {
      "cell_type": "code",
      "source": [
        "# # Define a sequence of tokens\n",
        "# sequence = ['this', 'is', 'a', 'sequence', 'of', 'tokens']\n",
        "\n",
        "# # Pad the sequence with special tokens\n",
        "# padded_sequence = list(pad_both_ends(sequence, n=2))\n",
        "\n",
        "# # Print the padded sequence\n",
        "# print(\"Padded sequence:\", padded_sequence)\n",
        "# print((padded_sequence[0]))\n",
        "# # pad = word_tokenize(padded_sequence)"
      ],
      "metadata": {
        "id": "7dmuwN4bupxG"
      },
      "execution_count": null,
      "outputs": []
    },
    {
      "cell_type": "code",
      "source": [
        "from google.colab import files\n",
        "uploaded = files.upload()\n",
        "uploaded2 = files.upload()"
      ],
      "metadata": {
        "colab": {
          "base_uri": "https://localhost:8080/",
          "height": 64
        },
        "id": "b8U3kZWjk4x0",
        "outputId": "454c6556-43a7-4899-9cd3-44849d3578c7"
      },
      "execution_count": null,
      "outputs": [
        {
          "output_type": "display_data",
          "data": {
            "text/plain": [
              "<IPython.core.display.HTML object>"
            ],
            "text/html": [
              "\n",
              "     <input type=\"file\" id=\"files-13560ed5-7997-420c-9b87-7798d1850e71\" name=\"files[]\" multiple disabled\n",
              "        style=\"border:none\" />\n",
              "     <output id=\"result-13560ed5-7997-420c-9b87-7798d1850e71\">\n",
              "      Upload widget is only available when the cell has been executed in the\n",
              "      current browser session. Please rerun this cell to enable.\n",
              "      </output>\n",
              "      <script>// Copyright 2017 Google LLC\n",
              "//\n",
              "// Licensed under the Apache License, Version 2.0 (the \"License\");\n",
              "// you may not use this file except in compliance with the License.\n",
              "// You may obtain a copy of the License at\n",
              "//\n",
              "//      http://www.apache.org/licenses/LICENSE-2.0\n",
              "//\n",
              "// Unless required by applicable law or agreed to in writing, software\n",
              "// distributed under the License is distributed on an \"AS IS\" BASIS,\n",
              "// WITHOUT WARRANTIES OR CONDITIONS OF ANY KIND, either express or implied.\n",
              "// See the License for the specific language governing permissions and\n",
              "// limitations under the License.\n",
              "\n",
              "/**\n",
              " * @fileoverview Helpers for google.colab Python module.\n",
              " */\n",
              "(function(scope) {\n",
              "function span(text, styleAttributes = {}) {\n",
              "  const element = document.createElement('span');\n",
              "  element.textContent = text;\n",
              "  for (const key of Object.keys(styleAttributes)) {\n",
              "    element.style[key] = styleAttributes[key];\n",
              "  }\n",
              "  return element;\n",
              "}\n",
              "\n",
              "// Max number of bytes which will be uploaded at a time.\n",
              "const MAX_PAYLOAD_SIZE = 100 * 1024;\n",
              "\n",
              "function _uploadFiles(inputId, outputId) {\n",
              "  const steps = uploadFilesStep(inputId, outputId);\n",
              "  const outputElement = document.getElementById(outputId);\n",
              "  // Cache steps on the outputElement to make it available for the next call\n",
              "  // to uploadFilesContinue from Python.\n",
              "  outputElement.steps = steps;\n",
              "\n",
              "  return _uploadFilesContinue(outputId);\n",
              "}\n",
              "\n",
              "// This is roughly an async generator (not supported in the browser yet),\n",
              "// where there are multiple asynchronous steps and the Python side is going\n",
              "// to poll for completion of each step.\n",
              "// This uses a Promise to block the python side on completion of each step,\n",
              "// then passes the result of the previous step as the input to the next step.\n",
              "function _uploadFilesContinue(outputId) {\n",
              "  const outputElement = document.getElementById(outputId);\n",
              "  const steps = outputElement.steps;\n",
              "\n",
              "  const next = steps.next(outputElement.lastPromiseValue);\n",
              "  return Promise.resolve(next.value.promise).then((value) => {\n",
              "    // Cache the last promise value to make it available to the next\n",
              "    // step of the generator.\n",
              "    outputElement.lastPromiseValue = value;\n",
              "    return next.value.response;\n",
              "  });\n",
              "}\n",
              "\n",
              "/**\n",
              " * Generator function which is called between each async step of the upload\n",
              " * process.\n",
              " * @param {string} inputId Element ID of the input file picker element.\n",
              " * @param {string} outputId Element ID of the output display.\n",
              " * @return {!Iterable<!Object>} Iterable of next steps.\n",
              " */\n",
              "function* uploadFilesStep(inputId, outputId) {\n",
              "  const inputElement = document.getElementById(inputId);\n",
              "  inputElement.disabled = false;\n",
              "\n",
              "  const outputElement = document.getElementById(outputId);\n",
              "  outputElement.innerHTML = '';\n",
              "\n",
              "  const pickedPromise = new Promise((resolve) => {\n",
              "    inputElement.addEventListener('change', (e) => {\n",
              "      resolve(e.target.files);\n",
              "    });\n",
              "  });\n",
              "\n",
              "  const cancel = document.createElement('button');\n",
              "  inputElement.parentElement.appendChild(cancel);\n",
              "  cancel.textContent = 'Cancel upload';\n",
              "  const cancelPromise = new Promise((resolve) => {\n",
              "    cancel.onclick = () => {\n",
              "      resolve(null);\n",
              "    };\n",
              "  });\n",
              "\n",
              "  // Wait for the user to pick the files.\n",
              "  const files = yield {\n",
              "    promise: Promise.race([pickedPromise, cancelPromise]),\n",
              "    response: {\n",
              "      action: 'starting',\n",
              "    }\n",
              "  };\n",
              "\n",
              "  cancel.remove();\n",
              "\n",
              "  // Disable the input element since further picks are not allowed.\n",
              "  inputElement.disabled = true;\n",
              "\n",
              "  if (!files) {\n",
              "    return {\n",
              "      response: {\n",
              "        action: 'complete',\n",
              "      }\n",
              "    };\n",
              "  }\n",
              "\n",
              "  for (const file of files) {\n",
              "    const li = document.createElement('li');\n",
              "    li.append(span(file.name, {fontWeight: 'bold'}));\n",
              "    li.append(span(\n",
              "        `(${file.type || 'n/a'}) - ${file.size} bytes, ` +\n",
              "        `last modified: ${\n",
              "            file.lastModifiedDate ? file.lastModifiedDate.toLocaleDateString() :\n",
              "                                    'n/a'} - `));\n",
              "    const percent = span('0% done');\n",
              "    li.appendChild(percent);\n",
              "\n",
              "    outputElement.appendChild(li);\n",
              "\n",
              "    const fileDataPromise = new Promise((resolve) => {\n",
              "      const reader = new FileReader();\n",
              "      reader.onload = (e) => {\n",
              "        resolve(e.target.result);\n",
              "      };\n",
              "      reader.readAsArrayBuffer(file);\n",
              "    });\n",
              "    // Wait for the data to be ready.\n",
              "    let fileData = yield {\n",
              "      promise: fileDataPromise,\n",
              "      response: {\n",
              "        action: 'continue',\n",
              "      }\n",
              "    };\n",
              "\n",
              "    // Use a chunked sending to avoid message size limits. See b/62115660.\n",
              "    let position = 0;\n",
              "    do {\n",
              "      const length = Math.min(fileData.byteLength - position, MAX_PAYLOAD_SIZE);\n",
              "      const chunk = new Uint8Array(fileData, position, length);\n",
              "      position += length;\n",
              "\n",
              "      const base64 = btoa(String.fromCharCode.apply(null, chunk));\n",
              "      yield {\n",
              "        response: {\n",
              "          action: 'append',\n",
              "          file: file.name,\n",
              "          data: base64,\n",
              "        },\n",
              "      };\n",
              "\n",
              "      let percentDone = fileData.byteLength === 0 ?\n",
              "          100 :\n",
              "          Math.round((position / fileData.byteLength) * 100);\n",
              "      percent.textContent = `${percentDone}% done`;\n",
              "\n",
              "    } while (position < fileData.byteLength);\n",
              "  }\n",
              "\n",
              "  // All done.\n",
              "  yield {\n",
              "    response: {\n",
              "      action: 'complete',\n",
              "    }\n",
              "  };\n",
              "}\n",
              "\n",
              "scope.google = scope.google || {};\n",
              "scope.google.colab = scope.google.colab || {};\n",
              "scope.google.colab._files = {\n",
              "  _uploadFiles,\n",
              "  _uploadFilesContinue,\n",
              "};\n",
              "})(self);\n",
              "</script> "
            ]
          },
          "metadata": {}
        },
        {
          "output_type": "display_data",
          "data": {
            "text/plain": [
              "<IPython.core.display.HTML object>"
            ],
            "text/html": [
              "\n",
              "     <input type=\"file\" id=\"files-9f301ba4-951d-4acc-8014-d589a005a2fe\" name=\"files[]\" multiple disabled\n",
              "        style=\"border:none\" />\n",
              "     <output id=\"result-9f301ba4-951d-4acc-8014-d589a005a2fe\">\n",
              "      Upload widget is only available when the cell has been executed in the\n",
              "      current browser session. Please rerun this cell to enable.\n",
              "      </output>\n",
              "      <script>// Copyright 2017 Google LLC\n",
              "//\n",
              "// Licensed under the Apache License, Version 2.0 (the \"License\");\n",
              "// you may not use this file except in compliance with the License.\n",
              "// You may obtain a copy of the License at\n",
              "//\n",
              "//      http://www.apache.org/licenses/LICENSE-2.0\n",
              "//\n",
              "// Unless required by applicable law or agreed to in writing, software\n",
              "// distributed under the License is distributed on an \"AS IS\" BASIS,\n",
              "// WITHOUT WARRANTIES OR CONDITIONS OF ANY KIND, either express or implied.\n",
              "// See the License for the specific language governing permissions and\n",
              "// limitations under the License.\n",
              "\n",
              "/**\n",
              " * @fileoverview Helpers for google.colab Python module.\n",
              " */\n",
              "(function(scope) {\n",
              "function span(text, styleAttributes = {}) {\n",
              "  const element = document.createElement('span');\n",
              "  element.textContent = text;\n",
              "  for (const key of Object.keys(styleAttributes)) {\n",
              "    element.style[key] = styleAttributes[key];\n",
              "  }\n",
              "  return element;\n",
              "}\n",
              "\n",
              "// Max number of bytes which will be uploaded at a time.\n",
              "const MAX_PAYLOAD_SIZE = 100 * 1024;\n",
              "\n",
              "function _uploadFiles(inputId, outputId) {\n",
              "  const steps = uploadFilesStep(inputId, outputId);\n",
              "  const outputElement = document.getElementById(outputId);\n",
              "  // Cache steps on the outputElement to make it available for the next call\n",
              "  // to uploadFilesContinue from Python.\n",
              "  outputElement.steps = steps;\n",
              "\n",
              "  return _uploadFilesContinue(outputId);\n",
              "}\n",
              "\n",
              "// This is roughly an async generator (not supported in the browser yet),\n",
              "// where there are multiple asynchronous steps and the Python side is going\n",
              "// to poll for completion of each step.\n",
              "// This uses a Promise to block the python side on completion of each step,\n",
              "// then passes the result of the previous step as the input to the next step.\n",
              "function _uploadFilesContinue(outputId) {\n",
              "  const outputElement = document.getElementById(outputId);\n",
              "  const steps = outputElement.steps;\n",
              "\n",
              "  const next = steps.next(outputElement.lastPromiseValue);\n",
              "  return Promise.resolve(next.value.promise).then((value) => {\n",
              "    // Cache the last promise value to make it available to the next\n",
              "    // step of the generator.\n",
              "    outputElement.lastPromiseValue = value;\n",
              "    return next.value.response;\n",
              "  });\n",
              "}\n",
              "\n",
              "/**\n",
              " * Generator function which is called between each async step of the upload\n",
              " * process.\n",
              " * @param {string} inputId Element ID of the input file picker element.\n",
              " * @param {string} outputId Element ID of the output display.\n",
              " * @return {!Iterable<!Object>} Iterable of next steps.\n",
              " */\n",
              "function* uploadFilesStep(inputId, outputId) {\n",
              "  const inputElement = document.getElementById(inputId);\n",
              "  inputElement.disabled = false;\n",
              "\n",
              "  const outputElement = document.getElementById(outputId);\n",
              "  outputElement.innerHTML = '';\n",
              "\n",
              "  const pickedPromise = new Promise((resolve) => {\n",
              "    inputElement.addEventListener('change', (e) => {\n",
              "      resolve(e.target.files);\n",
              "    });\n",
              "  });\n",
              "\n",
              "  const cancel = document.createElement('button');\n",
              "  inputElement.parentElement.appendChild(cancel);\n",
              "  cancel.textContent = 'Cancel upload';\n",
              "  const cancelPromise = new Promise((resolve) => {\n",
              "    cancel.onclick = () => {\n",
              "      resolve(null);\n",
              "    };\n",
              "  });\n",
              "\n",
              "  // Wait for the user to pick the files.\n",
              "  const files = yield {\n",
              "    promise: Promise.race([pickedPromise, cancelPromise]),\n",
              "    response: {\n",
              "      action: 'starting',\n",
              "    }\n",
              "  };\n",
              "\n",
              "  cancel.remove();\n",
              "\n",
              "  // Disable the input element since further picks are not allowed.\n",
              "  inputElement.disabled = true;\n",
              "\n",
              "  if (!files) {\n",
              "    return {\n",
              "      response: {\n",
              "        action: 'complete',\n",
              "      }\n",
              "    };\n",
              "  }\n",
              "\n",
              "  for (const file of files) {\n",
              "    const li = document.createElement('li');\n",
              "    li.append(span(file.name, {fontWeight: 'bold'}));\n",
              "    li.append(span(\n",
              "        `(${file.type || 'n/a'}) - ${file.size} bytes, ` +\n",
              "        `last modified: ${\n",
              "            file.lastModifiedDate ? file.lastModifiedDate.toLocaleDateString() :\n",
              "                                    'n/a'} - `));\n",
              "    const percent = span('0% done');\n",
              "    li.appendChild(percent);\n",
              "\n",
              "    outputElement.appendChild(li);\n",
              "\n",
              "    const fileDataPromise = new Promise((resolve) => {\n",
              "      const reader = new FileReader();\n",
              "      reader.onload = (e) => {\n",
              "        resolve(e.target.result);\n",
              "      };\n",
              "      reader.readAsArrayBuffer(file);\n",
              "    });\n",
              "    // Wait for the data to be ready.\n",
              "    let fileData = yield {\n",
              "      promise: fileDataPromise,\n",
              "      response: {\n",
              "        action: 'continue',\n",
              "      }\n",
              "    };\n",
              "\n",
              "    // Use a chunked sending to avoid message size limits. See b/62115660.\n",
              "    let position = 0;\n",
              "    do {\n",
              "      const length = Math.min(fileData.byteLength - position, MAX_PAYLOAD_SIZE);\n",
              "      const chunk = new Uint8Array(fileData, position, length);\n",
              "      position += length;\n",
              "\n",
              "      const base64 = btoa(String.fromCharCode.apply(null, chunk));\n",
              "      yield {\n",
              "        response: {\n",
              "          action: 'append',\n",
              "          file: file.name,\n",
              "          data: base64,\n",
              "        },\n",
              "      };\n",
              "\n",
              "      let percentDone = fileData.byteLength === 0 ?\n",
              "          100 :\n",
              "          Math.round((position / fileData.byteLength) * 100);\n",
              "      percent.textContent = `${percentDone}% done`;\n",
              "\n",
              "    } while (position < fileData.byteLength);\n",
              "  }\n",
              "\n",
              "  // All done.\n",
              "  yield {\n",
              "    response: {\n",
              "      action: 'complete',\n",
              "    }\n",
              "  };\n",
              "}\n",
              "\n",
              "scope.google = scope.google || {};\n",
              "scope.google.colab = scope.google.colab || {};\n",
              "scope.google.colab._files = {\n",
              "  _uploadFiles,\n",
              "  _uploadFilesContinue,\n",
              "};\n",
              "})(self);\n",
              "</script> "
            ]
          },
          "metadata": {}
        }
      ]
    },
    {
      "cell_type": "code",
      "source": [
        "# Open the text file\n",
        "with open('bible_en.txt', 'r') as file:\n",
        "    # Read the contents of the file\n",
        "    file_contents = file.read()\n",
        "\n",
        "# Remove any leading or trailing whitespace\n",
        "file_contents = file_contents.strip()\n",
        "\n",
        "# Print the long string\n",
        "print(file_contents)\n",
        "print(type(file_contents))"
      ],
      "metadata": {
        "id": "JETZtcuzN3Qn"
      },
      "execution_count": null,
      "outputs": []
    },
    {
      "cell_type": "code",
      "source": [
        "# # Open the text file\n",
        "# with open('bible_en.txt', 'r') as file:\n",
        "#     # Read the contents of the file\n",
        "#     file_contents = file.read()\n",
        "\n",
        "# # Remove any leading or trailing whitespace\n",
        "# file_contents = file_contents.strip()\n",
        "\n",
        "# # Print the long string\n",
        "# print(file_contents)\n",
        "# print(type(file_contents))\n",
        "\n",
        "with open('Sonnets.txt','r') as file:\n",
        "  file_contents1 = file.read()\n",
        "file_contents1 = file_contents1.strip()\n",
        "print(file_contents1)\n",
        "print(type(file_contents1))"
      ],
      "metadata": {
        "id": "HADSCEOGlGON"
      },
      "execution_count": null,
      "outputs": []
    },
    {
      "cell_type": "code",
      "source": [
        "# corpus = '''text The chance is unlikely if not done programmatically.\n",
        "# \tHowever, imagine the game spawning multiple players at a spawn point,\n",
        "# \tthis would be the exact same location.'''\n",
        "\n",
        "# corpus2 = '''From fairest creatures we desire increase,\n",
        "# That thereby beauty‘s rose might never die,\n",
        "# But as the riper should by time decease,\n",
        "# His tender heir might bear his memory:\n",
        "# But thou, contracted to thine own bright eyes,\n",
        "# Feed‘st thy light‘s flame with self-substantial fuel,\n",
        "# Making a famine where abundance lies,\n",
        "# Thyself thy foe, to thy sweet self too cruel:\n",
        "# Thou that art now the world‘s fresh ornament,\n",
        "# And only herald to the gaudy spring,\n",
        "# Within thine own bud buriest thy content,\n",
        "# And tender churl mak‘st waste in niggarding:Pity the world, or else this glutton be,To eat the world‘s due, by the grave and thee.\n",
        "# When forty winters shall besiege thy brow,\n",
        "# And dig deep trenches in thy beauty‘s field,\n",
        "# Thy youth‘s proud livery so gazed on now,\n",
        "# Will be a tatter‘d weed of small worth held:\n",
        "# Then being asked, where all thy beauty lies,\n",
        "# Where all the treasure of thy lusty days;\n",
        "# To say, within thine own deep sunken eyes,\n",
        "# Were an all-eating shame, and thriftless praise.\n",
        "# How much more praise deserv‘d thy beauty‘s use,\n",
        "# If thou couldst answer ‘This fair child of mine\n",
        "# Shall sum my count, and make my old excuse,‘\n",
        "# Proving his beauty by succession thine!This were to be new made when thou art old,And see thy blood warm when thou feel‘st it cold.\n",
        "# '''\n",
        "\n",
        "# corpus3 = file_contents\n",
        "\n",
        "corpus4 = file_contents1\n",
        "\n",
        "print(type(file_contents1))\n",
        "#corpus_middle_persian = file_contents_middle_persian"
      ],
      "metadata": {
        "id": "UDMga6cSvPez",
        "colab": {
          "base_uri": "https://localhost:8080/"
        },
        "outputId": "c36545a1-40bc-4353-f82d-2554f1f6b381"
      },
      "execution_count": null,
      "outputs": [
        {
          "output_type": "stream",
          "name": "stdout",
          "text": [
            "<class 'str'>\n"
          ]
        }
      ]
    },
    {
      "cell_type": "code",
      "source": [
        "# corpus4 = file_contents1\n",
        "\n",
        "# print(type(file_contents1))"
      ],
      "metadata": {
        "id": "rPlgFIcGN80E"
      },
      "execution_count": null,
      "outputs": []
    },
    {
      "cell_type": "code",
      "source": [
        "def remove_roman_numerals(text):\n",
        "    # Define a regular expression pattern to match Roman numerals from II to CLIV\n",
        "    pattern = r'\\b(?:II|III|IV|V|VI|VII|VIII|IX|X|XI|XII|XIII|XIV|XV|XVI|XVII|XVIII|XIX|XX|XXI|XXII|XXIII|XXIV|XXV|XXVI|XXVII|XXVIII|XXIX|XXX|XXXI|XXXII|XXXIII|XXXIV|XXXV|XXXVI|XXXVII|XXXVIII|XXXIX|XL|XLI|XLII|XLIII|XLIV|XLV|XLVI|XLVII|XLVIII|XLIX|L|LI|LII|LIII|LIV|LV|LVI|LVII|LVIII|LIX|LX|LXI|LXII|LXIII|LXIV|LXV|LXVI|LXVII|LXVIII|LXIX|LXX|LXXI|LXXII|LXXIII|LXXIV|LXXV|LXXVI|LXXVII|LXXVIII|LXXIX|LXXX|LXXXI|LXXXII|LXXXIII|LXXXIV|LXXXV|LXXXVI|LXXXVII|LXXXVIII|LXXXIX|XC|XCI|XCII|XCIII|XCIV|XCV|XCVI|XCVII|XCVIII|XCIX|C|CI|CII|CIII|CIV|CV|CVI|CVII|CVIII|CIX|CX|CXI|CXII|CXIII|CXIV|CXV|CXVI|CXVII|CXVIII|CXIX|CXX|CXXI|CXXII|CXXIII|CXXIV|CXXV|CXXVI|CXXVII|CXXVIII|CXXIX|CXXX|CXXXI|CXXXII|CXXXIII|CXXXIV|CXXXV|CXXXVI|CXXXVII|CXXXVIII|CXXXIX|CXL|CXLI|CXLII|CXLIII|CXLIV|CXLV|CXLVI|CXLVII|CXLVIII|CXLIX|CL|CLI|CLII|CLIII|CLIV)\\b'\n",
        "\n",
        "    # Remove Roman numerals from the text using the pattern\n",
        "    cleaned_text = re.sub(pattern, '', text)\n",
        "\n",
        "    return cleaned_text\n",
        "\n",
        "# Example usage\n",
        "text = \"This is a sample text with Roman numerals from II to CXXII.\"\n",
        "file_contents1 = remove_roman_numerals(file_contents1)\n",
        "print(\"Cleaned text:\", file_contents1)"
      ],
      "metadata": {
        "id": "imkr5FyBxkeQ"
      },
      "execution_count": null,
      "outputs": []
    },
    {
      "cell_type": "code",
      "source": [
        "def remove_delimiters(text):\n",
        "    # Define a regular expression pattern to match delimiters\n",
        "    delimiter_pattern = r'[.,;:?!()\\[\\]\"\\-\\'\\.\\.\\./&*|\\\\+=\\{\\}]'\n",
        "\n",
        "    # Use the re.sub() function to replace delimiters with an empty string\n",
        "    clean_text = re.sub(delimiter_pattern, ' ', text)\n",
        "\n",
        "    return clean_text\n",
        "file_contents1 = file_contents1.replace('’','')\n",
        "file_contents1 = file_contents1.replace('‘','')\n",
        "file_contents1 = remove_delimiters(file_contents1)\n",
        "print(file_contents1)"
      ],
      "metadata": {
        "id": "wV74MPKtgpHY"
      },
      "execution_count": null,
      "outputs": []
    },
    {
      "cell_type": "code",
      "source": [
        "# # corpus4_tokenize = nltk.sent_tokenize(corpus4)\n",
        "# corpus4 = remove_roman_numerals(corpus4)\n",
        "# corpus4_tokenize = nltk.sent_tokenize(corpus4)\n",
        "# sentences_with_boundaries = ['<s>' + sentence + '</s>' for sentence in corpus4_tokenize]\n",
        "# print(sentences_with_boundaries)\n",
        "# padded_list = []\n",
        "# for sentence in corpus4_tokenize:\n",
        "#   # print(sentence)\n",
        "#   # print('+++++++++++++++++')\n",
        "#   padded = list(pad_both_ends(word_tokenize(sentence), n=2))\n",
        "#   for word in padded:\n",
        "#     padded_list.append(word)\n",
        "# print(padded_list)"
      ],
      "metadata": {
        "id": "mDetPvpkvn1b"
      },
      "execution_count": null,
      "outputs": []
    },
    {
      "cell_type": "code",
      "source": [
        "# list(pad_both_ends(word_tokenize(corpus4_tokenize[0]),2))"
      ],
      "metadata": {
        "id": "NqQgOrNS694k"
      },
      "execution_count": null,
      "outputs": []
    },
    {
      "cell_type": "code",
      "source": [
        "# def removeTokenizedDelimiters(tokenizedtext):\n",
        "#   delimiter_pattern = r'[.,;:?!()\\[\\]\"\\-\\'\\.\\.\\./&*|\\\\+=\\{\\}]'\n",
        "#   for word in tokenizedtext:\n",
        "#     if word in delimiter_pattern:\n",
        "#       tokenizedtext.remove(word)\n",
        "#   return tokenizedtext"
      ],
      "metadata": {
        "id": "SWabowWux5xd"
      },
      "execution_count": null,
      "outputs": []
    },
    {
      "cell_type": "code",
      "source": [
        "# padded_list = removeTokenizedDelimiters(padded_list)\n",
        "# padded_list"
      ],
      "metadata": {
        "id": "J4HhiN2T-6_J"
      },
      "execution_count": null,
      "outputs": []
    },
    {
      "cell_type": "code",
      "source": [
        "tokenized = word_tokenize(file_contents1)#file_contents1 is the Sonnets\n",
        "bigramed = bigrams(tokenized)\n",
        "listed_bigramed = list(bigramed) # The listed_bigramed is a list containing all tuples\n",
        "print(listed_bigramed)\n",
        "\n",
        "# bigramed_pad = list(bigrams(padded_list))\n",
        "# print(bigramed_pad)"
      ],
      "metadata": {
        "id": "32isZm1d4AmK"
      },
      "execution_count": null,
      "outputs": []
    },
    {
      "cell_type": "code",
      "source": [
        "# listed_bigramed = list(bigrams(padded_list)) # The listed_bigramed is a list containing all tuples\n",
        "# listed_bigramed"
      ],
      "metadata": {
        "id": "Vb5xH4H4ASKP"
      },
      "execution_count": null,
      "outputs": []
    },
    {
      "cell_type": "code",
      "source": [
        "# from_token_to_next_token_counts = { token: { next_token: num_of_occurrencies } }\n",
        "from_token_to_next_token_counts = defaultdict(dict)\n",
        "for i in listed_bigramed:\n",
        "  #print(type(i)) # each element i is a tuple\n",
        "  #print(type(i[0])) # each element in the element i is a string\n",
        "  token = i[0]\n",
        "  next_token = i[1]\n",
        "  #print(token,next_token)\n",
        "  if next_token not in from_token_to_next_token_counts[token]:\n",
        "      from_token_to_next_token_counts[token][next_token] = 0\n",
        "  from_token_to_next_token_counts[token][next_token] += 1\n",
        "\n",
        "print(list(from_token_to_next_token_counts[\"I\"].items()))\n",
        "print(from_token_to_next_token_counts.items())\n",
        "print(type(from_token_to_next_token_counts.items()))\n",
        "print(list(from_token_to_next_token_counts[\"I\"].items()))\n",
        "\n"
      ],
      "metadata": {
        "id": "mOXF_UDyBuL0"
      },
      "execution_count": null,
      "outputs": []
    },
    {
      "cell_type": "code",
      "source": [
        "print(type(list(from_token_to_next_token_counts.items())[0][1]))\n",
        "# print(type(from_token_to_next_token_counts.items()))\n",
        "# print(list(from_token_to_next_token_counts[\"I\"].items()))"
      ],
      "metadata": {
        "id": "h-Khwixst0U6",
        "colab": {
          "base_uri": "https://localhost:8080/"
        },
        "outputId": "2fd42057-81d6-4261-ea0f-dc5ed6437ec1"
      },
      "execution_count": null,
      "outputs": [
        {
          "output_type": "stream",
          "name": "stdout",
          "text": [
            "<class 'dict'>\n"
          ]
        }
      ]
    },
    {
      "cell_type": "code",
      "source": [
        "# # Get a list of file identifiers in the Gutenberg corpus\n",
        "# shakespeare_files = [file_id for file_id in gutenberg.fileids() if 'shakespeare' in file_id]\n",
        "\n",
        "# # Print the list of Shakespeare's works available in the Gutenberg corpus\n",
        "# print(\"Shakespeare's works available in Gutenberg:\")\n",
        "# for file_id in shakespeare_files:\n",
        "#     print(file_id)\n",
        "\n",
        "# from_token_to_next_token_probs = { token: { next_token: probability } }\n",
        "from_token_to_next_token_probs = {} #here is a regular dictonary structure\n",
        "for token, d_token in from_token_to_next_token_counts.items():\n",
        "  # print(token)\n",
        "  # print(d_token)\n",
        "  # print(d_token.items())\n",
        "  # for next_token, count in d_token.items():\n",
        "  #   print(next_token)\n",
        "  #   print(count)\n",
        "  sum_of_counts_for_token = sum(d_token.values())\n",
        "  from_token_to_next_token_probs[token] = {\n",
        "      next_token: count / sum_of_counts_for_token\n",
        "      for next_token, count\n",
        "      in d_token.items()\n",
        "  }\n",
        "  # for next_token,count in d_token.items():\n",
        "  #   print(next_token)\n",
        "  #   print(count)\n",
        "# print 10 examples of tokens that followed the token \"from\" in the corpora, along\n",
        "# with their probabilities\n",
        "print(from_token_to_next_token_probs.items())\n",
        "# print(list(from_token_to_next_token_probs[\"I\"].items()))\n",
        "# print(len(list(from_token_to_next_token_probs[\"I\"].items())))"
      ],
      "metadata": {
        "id": "yngIT1USgvwK"
      },
      "execution_count": null,
      "outputs": []
    },
    {
      "cell_type": "code",
      "source": [
        "# next_tokens = list(zip(from_token_to_next_token_probs['From'].items()))\n",
        "\n",
        "# next_token_sampled = np.random.choice(next_tokens, size=1)\n",
        "\n"
      ],
      "metadata": {
        "id": "MTVU7F7qOs4l"
      },
      "execution_count": null,
      "outputs": []
    },
    {
      "cell_type": "code",
      "source": [
        "# print(type(from_token_to_next_token_probs['From'].items()))\n",
        "# next_tokens, next_tokens_probs = list(zip(*from_token_to_next_token_probs['From'].items()))\n",
        "# next_token_sampled = np.random.choice(next_tokens, size=1, p=next_tokens_probs)\n",
        "# print(next_tokens)\n",
        "# print(next_tokens_probs)\n",
        "# print(next_token_sampled)\n",
        "# print(list(zip(from_token_to_next_token_probs['From'].items())))"
      ],
      "metadata": {
        "id": "H6r1zHmkKV3g"
      },
      "execution_count": null,
      "outputs": []
    },
    {
      "cell_type": "code",
      "source": [
        "# sample the next token according to the computed probabilities\n",
        "def sample_next_token(token, from_token_to_next_token_probs):\n",
        "  next_tokens, next_tokens_probs = list(zip(*from_token_to_next_token_probs[token].items()))#we unpack here\n",
        "  # next_token_sampled = np.random.choice(next_tokens, size=1, p=next_tokens_probs)[0]\n",
        "  dict = {}\n",
        "  for i in range(len(next_tokens)):\n",
        "    dict[next_tokens[i]] = next_tokens_probs[i]\n",
        "  sorted_dict = sorted(dict.items(), key=lambda item: item[1], reverse=True)\n",
        "  dict_sorted = {}\n",
        "  for pair in sorted_dict:\n",
        "    dict_sorted[pair[0]] = float(pair[1])\n",
        "  random_number = random.random()\n",
        "  accumulation = 0\n",
        "  for key,value in dict_sorted.items():\n",
        "    accumulation = accumulation+value\n",
        "    if random_number < accumulation:\n",
        "      next_token_sampled = key\n",
        "      break\n",
        "  return next_token_sampled\n",
        "\n",
        "print(sample_next_token(\"From\", from_token_to_next_token_probs))"
      ],
      "metadata": {
        "id": "X2yY1bAHOgsB"
      },
      "execution_count": null,
      "outputs": []
    },
    {
      "cell_type": "code",
      "source": [
        "next_tokens, next_tokens_probs = list(zip(*from_token_to_next_token_probs['From'].items()))#we unpack here\n",
        "dict = {}\n",
        "for i in range(len(next_tokens)):\n",
        "  dict[next_tokens[i]] = next_tokens_probs[i]\n",
        "  sorted_dict = sorted(dict.items(), key=lambda item: item[1], reverse=True)\n",
        "  dict_sorted = {}\n",
        "  for pair in sorted_dict:\n",
        "    dict_sorted[pair[0]] = float(pair[1])\n",
        "accumulation = 0\n",
        "random_number = random.random()\n",
        "print(dict_sorted)\n",
        "for key,value in dict_sorted.items():\n",
        "    accumulation = accumulation+value\n",
        "    if random_number < accumulation:\n",
        "      next_token = key\n",
        "      break\n",
        "print(random_number)\n",
        "print(accumulation)\n",
        "print(dict_sorted[next_token])\n",
        "next_token"
      ],
      "metadata": {
        "colab": {
          "base_uri": "https://localhost:8080/",
          "height": 125
        },
        "id": "ptiaQI9DFKq7",
        "outputId": "9fdde808-7974-41e1-f1be-f3506dec8ab5"
      },
      "execution_count": null,
      "outputs": [
        {
          "output_type": "stream",
          "name": "stdout",
          "text": [
            "{'fairest': 0.07142857142857142, 'his': 0.07142857142857142, 'sullen': 0.07142857142857142, 'limits': 0.07142857142857142, 'hands': 0.07142857142857142, 'whence': 0.07142857142857142, 'where': 0.07142857142857142, 'me': 0.07142857142857142, 'this': 0.07142857142857142, 'thy': 0.07142857142857142, 'hence': 0.07142857142857142, 'thee': 0.07142857142857142, 'you': 0.07142857142857142, 'heaven': 0.07142857142857142}\n",
            "0.5043499939274024\n",
            "0.5714285714285713\n",
            "0.07142857142857142\n"
          ]
        },
        {
          "output_type": "execute_result",
          "data": {
            "text/plain": [
              "'me'"
            ],
            "application/vnd.google.colaboratory.intrinsic+json": {
              "type": "string"
            }
          },
          "metadata": {},
          "execution_count": 76
        }
      ]
    },
    {
      "cell_type": "code",
      "source": [
        "!pip install pyphen"
      ],
      "metadata": {
        "colab": {
          "base_uri": "https://localhost:8080/"
        },
        "id": "6FduYFbHqENf",
        "outputId": "490b882e-a9c5-4fce-bf83-9f26216dd802"
      },
      "execution_count": null,
      "outputs": [
        {
          "output_type": "stream",
          "name": "stdout",
          "text": [
            "Collecting pyphen\n",
            "  Downloading pyphen-0.15.0-py3-none-any.whl (2.1 MB)\n",
            "\u001b[2K     \u001b[90m━━━━━━━━━━━━━━━━━━━━━━━━━━━━━━━━━━━━━━━━\u001b[0m \u001b[32m2.1/2.1 MB\u001b[0m \u001b[31m9.6 MB/s\u001b[0m eta \u001b[36m0:00:00\u001b[0m\n",
            "\u001b[?25hInstalling collected packages: pyphen\n",
            "Successfully installed pyphen-0.15.0\n"
          ]
        }
      ]
    },
    {
      "cell_type": "code",
      "source": [
        "import pyphen"
      ],
      "metadata": {
        "id": "m5mSMFv2qBnw"
      },
      "execution_count": null,
      "outputs": []
    },
    {
      "cell_type": "code",
      "source": [
        "# # Create an instance of the Pyphen class\n",
        "# dic = pyphen.Pyphen(lang='en')\n",
        "# # Example word\n",
        "# word = \"elephant\"\n",
        "\n",
        "# # Split the word into syllables\n",
        "# syllables = dic.inserted(word).split('-')\n",
        "# syllables"
      ],
      "metadata": {
        "id": "fx6yE2lbqKBl"
      },
      "execution_count": null,
      "outputs": []
    },
    {
      "cell_type": "code",
      "source": [
        "# repeatedly sample tokens to generate long text\n",
        "def generate_text_from_token(token, from_token_to_next_token_probs, n_words_to_generate):\n",
        "  text = token\n",
        "  count = 0\n",
        "  for _ in range(n_words_to_generate):\n",
        "    next_token = sample_next_token(token, from_token_to_next_token_probs)\n",
        "    text += \" \" + next_token\n",
        "    token = next_token\n",
        "\n",
        "    # count = 0\n",
        "    # for word in text.split(\" \"):\n",
        "    #   syllables = dic.inserted(word).split('-')\n",
        "    #   num_syllables = len(syllables)\n",
        "    #   count = count+num_syllables\n",
        "    # if count>10:\n",
        "    #   count = count - 1\n",
        "    #   text = text + \"\\n\"\n",
        "\n",
        "  return text\n",
        "# def syllables_generation(token,from_token_to_next_token_probs):\n",
        "#   text = token\n",
        "#   # next_token = sample_next_token(token, from_token_to_next_token_probs)\n",
        "#   count = 0\n",
        "#   while count<=140:\n",
        "#    if count%10 != 0:\n",
        "#     next_token = sample_next_token(token, from_token_to_next_token_probs)\n",
        "#     text = text + \" \"+ next_token\n",
        "#     syllables = dic.inserted(token).split('-')\n",
        "#     num_syllables = len(syllables)\n",
        "#     count = count+num_syllables\n",
        "#    else:\n",
        "#     next_token = sample_next_token(token, from_token_to_next_token_probs)\n",
        "#     text = text+\"\\n\"+next_token\n",
        "#     syllables = dic.inserted(token).split('-')\n",
        "#     num_syllables = len(syllables)\n",
        "#     count = count+num_syllables\n",
        "#   return text\n",
        "# first_token = \"He\"\n",
        "# n_words_to_generate = 120\n",
        "# generated_text = generate_text_from_token(first_token, from_token_to_next_token_probs, n_words_to_generate)\n",
        "# print(generated_text)\n",
        "\n",
        "# syllable_wise_text = syllables_generation(first_token,from_token_to_next_token_probs)\n",
        "\n",
        "# print(syllable_wise_text)\n",
        "# here we may introduce our restrictions here, using syllable count at every time a new workd is added. After every ten syllables,\n",
        "# we add a new line marker and start to evaluate the new line.\n",
        "# also we need to restrict it to be in 14 lines\n",
        "# at the same time, we need to do word count , if we have words left then we just stop, if we need more words to generate,\n",
        "# we add a few words at each time and evaluate again until we generate successfully"
      ],
      "metadata": {
        "id": "9jNocYW5TM1c"
      },
      "execution_count": null,
      "outputs": []
    },
    {
      "cell_type": "code",
      "source": [
        "first_token = \"From\"\n",
        "n_words_to_generate = 120\n",
        "generated_text = generate_text_from_token(first_token, from_token_to_next_token_probs, n_words_to_generate)\n",
        "print(generated_text)"
      ],
      "metadata": {
        "id": "0w73ydQosp53",
        "outputId": "1e6e7b75-25f5-4b54-f1b7-0cf6a4ade2eb",
        "colab": {
          "base_uri": "https://localhost:8080/"
        }
      },
      "execution_count": null,
      "outputs": [
        {
          "output_type": "stream",
          "name": "stdout",
          "text": [
            "From hands to sell My sinful loving thee partake Do in niggarding Pity me sin there reigns Love A bliss in thine eyes delight How would show Then do offend thine annoy If the fools of altering things of thy heart think that which I am thine eyes Feedst thy sake lay But thou consumst thyself thou wilt thou taste nor outward thus did proceed O cunning want to be seen Without this rage shall live Look in worth That barren of you have what I am a journey in this false eyes due by feeding And in some in love Be where is thy lays upon thy sins more strong but one ever yet unset With means more delight Drawn\n"
          ]
        }
      ]
    },
    {
      "cell_type": "code",
      "source": [
        "generated_text.split(' ')\n",
        "restructured = generated_text.split(' ')[0]\n",
        "for word in generated_text.split(' ')[1:]:\n",
        "  if word.istitle():\n",
        "    restructured = restructured+'\\n'+word\n",
        "  else:\n",
        "    restructured = restructured +' '+word\n",
        "print(restructured)"
      ],
      "metadata": {
        "colab": {
          "base_uri": "https://localhost:8080/"
        },
        "id": "yizXjs_gZXQv",
        "outputId": "a4f764b6-bdef-41e7-c36c-096928ae050e"
      },
      "execution_count": null,
      "outputs": [
        {
          "output_type": "stream",
          "name": "stdout",
          "text": [
            "From hands to sell\n",
            "My sinful loving thee partake\n",
            "Do in niggarding\n",
            "Pity me sin there reigns\n",
            "Love\n",
            "A bliss in thine eyes delight\n",
            "How would show\n",
            "Then do offend thine annoy\n",
            "If the fools of altering things of thy heart think that which\n",
            "I am thine eyes\n",
            "Feedst thy sake lay\n",
            "But thou consumst thyself thou wilt thou taste nor outward thus did proceed\n",
            "O cunning want to be seen\n",
            "Without this rage shall live\n",
            "Look in worth\n",
            "That barren of you have what\n",
            "I am a journey in this false eyes due by feeding\n",
            "And in some in love\n",
            "Be where is thy lays upon thy sins more strong but one ever yet unset\n",
            "With means more delight\n",
            "Drawn\n"
          ]
        }
      ]
    }
  ]
}